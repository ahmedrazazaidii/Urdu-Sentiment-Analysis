{
  "nbformat": 4,
  "nbformat_minor": 0,
  "metadata": {
    "colab": {
      "provenance": []
    },
    "kernelspec": {
      "name": "python3",
      "display_name": "Python 3"
    },
    "language_info": {
      "name": "python"
    }
  },
  "cells": [
    {
      "cell_type": "code",
      "source": [
        "import pandas as pd\n",
        "from sklearn.model_selection import train_test_split\n",
        "from keras.preprocessing.text import Tokenizer\n",
        "from keras.preprocessing.sequence import pad_sequences\n",
        "\n",
        "\n",
        "dataset = \"/content/urdu-sentiment-corpus-v1.tsv\"\n",
        "df = pd.read_csv(dataset, sep='\\t')\n",
        "\n",
        "\n",
        "texts = df['Tweet'].astype(str)\n",
        "labels = df['Class'].apply(lambda x: 1 if x == 'P' else 0)\n",
        "\n",
        "\n",
        "max_words = 10000\n",
        "tokenizer = Tokenizer(num_words=max_words)\n",
        "tokenizer.fit_on_texts(texts)\n",
        "sequences = tokenizer.texts_to_sequences(texts)\n",
        "\n",
        "\n",
        "maxlen = 100  # Adjust maxlen as needed\n",
        "data = pad_sequences(sequences, maxlen=maxlen)\n",
        "\n",
        "# Train-test split\n",
        "X_train, X_test, y_train, y_test = train_test_split(data, labels, test_size=0.25, random_state=42)\n"
      ],
      "metadata": {
        "id": "65Y6EasApl89"
      },
      "execution_count": null,
      "outputs": []
    },
    {
      "cell_type": "code",
      "source": [
        "from keras.models import Sequential\n",
        "from keras.layers import Embedding, SimpleRNN, GRU, LSTM, Bidirectional, Dense, Dropout\n",
        "\n",
        "# Function\n",
        "def build_model(num_layers, dropout_rate, cell_type):\n",
        "    model = Sequential()\n",
        "    model.add(Embedding(max_words, 32, input_length=maxlen))\n",
        "    for _ in range(num_layers):\n",
        "        if cell_type == 'RNN':\n",
        "            model.add(SimpleRNN(32, dropout=dropout_rate, recurrent_dropout=dropout_rate, return_sequences=True))\n",
        "        elif cell_type == 'GRU':\n",
        "            model.add(GRU(32, dropout=dropout_rate, recurrent_dropout=dropout_rate, return_sequences=True))\n",
        "        elif cell_type == 'LSTM':\n",
        "            model.add(LSTM(32, dropout=dropout_rate, recurrent_dropout=dropout_rate, return_sequences=True))\n",
        "        elif cell_type == 'BiLSTM':\n",
        "            model.add(Bidirectional(LSTM(32, dropout=dropout_rate, recurrent_dropout=dropout_rate, return_sequences=True)))\n",
        "    model.add(Dense(1, activation='sigmoid'))\n",
        "    model.compile(optimizer='adam', loss='binary_crossentropy', metrics=['accuracy'])\n",
        "    return model\n",
        "\n",
        "# Hyperparameters\n",
        "num_layers_list = [2, 3]\n",
        "dropout_rates = [0.3, 0.7]\n",
        "cell_types = ['RNN', 'GRU', 'LSTM', 'BiLSTM']\n",
        "\n",
        "results = []\n",
        "\n",
        "# Train models\n",
        "for num_layers in num_layers_list:\n",
        "    for dropout_rate in dropout_rates:\n",
        "        for cell_type in cell_types:\n",
        "            print(f\"Training {cell_type} with {num_layers} layers and dropout rate {dropout_rate}\")\n",
        "            model = build_model(num_layers, dropout_rate, cell_type)\n",
        "            model.fit(X_train, y_train, epochs=5, batch_size=32, validation_split=0.1, verbose=0)\n",
        "            loss, accuracy = model.evaluate(X_test, y_test, verbose=0)\n",
        "            results.append({'Model': cell_type, 'Layers': num_layers, 'Dropout': dropout_rate, 'Accuracy': accuracy})\n",
        "\n",
        "\n",
        "results_df = pd.DataFrame(results)\n",
        "print(results_df)\n"
      ],
      "metadata": {
        "colab": {
          "base_uri": "https://localhost:8080/"
        },
        "id": "ENoP6baapsRU",
        "outputId": "b6107180-8d02-4046-c6a7-eb482bf5ba2a"
      },
      "execution_count": null,
      "outputs": [
        {
          "output_type": "stream",
          "name": "stdout",
          "text": [
            "Training RNN with 2 layers and dropout rate 0.3\n",
            "Training GRU with 2 layers and dropout rate 0.3\n",
            "Training LSTM with 2 layers and dropout rate 0.3\n",
            "Training BiLSTM with 2 layers and dropout rate 0.3\n",
            "Training RNN with 2 layers and dropout rate 0.7\n",
            "Training GRU with 2 layers and dropout rate 0.7\n",
            "Training LSTM with 2 layers and dropout rate 0.7\n",
            "Training BiLSTM with 2 layers and dropout rate 0.7\n",
            "Training RNN with 3 layers and dropout rate 0.3\n",
            "Training GRU with 3 layers and dropout rate 0.3\n",
            "Training LSTM with 3 layers and dropout rate 0.3\n",
            "Training BiLSTM with 3 layers and dropout rate 0.3\n",
            "Training RNN with 3 layers and dropout rate 0.7\n",
            "Training GRU with 3 layers and dropout rate 0.7\n",
            "Training LSTM with 3 layers and dropout rate 0.7\n",
            "Training BiLSTM with 3 layers and dropout rate 0.7\n",
            "     Model  Layers  Dropout  Accuracy\n",
            "0      RNN       2      0.3   0.49200\n",
            "1      GRU       2      0.3   0.49532\n",
            "2     LSTM       2      0.3   0.49592\n",
            "3   BiLSTM       2      0.3   0.59600\n",
            "4      RNN       2      0.7   0.49196\n",
            "5      GRU       2      0.7   0.49200\n",
            "6     LSTM       2      0.7   0.49212\n",
            "7   BiLSTM       2      0.7   0.49252\n",
            "8      RNN       3      0.3   0.49108\n",
            "9      GRU       3      0.3   0.49292\n",
            "10    LSTM       3      0.3   0.49208\n",
            "11  BiLSTM       3      0.3   0.60112\n",
            "12     RNN       3      0.7   0.49196\n",
            "13     GRU       3      0.7   0.49628\n",
            "14    LSTM       3      0.7   0.49200\n",
            "15  BiLSTM       3      0.7   0.49200\n"
          ]
        }
      ]
    }
  ]
}